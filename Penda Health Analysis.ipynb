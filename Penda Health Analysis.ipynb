{
 "cells": [
  {
   "cell_type": "markdown",
   "metadata": {},
   "source": [
    "# Penda Healthcare Casestudy\n",
    "\n",
    "\n",
    "\n"
   ]
  },
  {
   "cell_type": "markdown",
   "metadata": {},
   "source": [
    "- Using Python Pandas and Numpy to answer several questions regarding the data.\n",
    "- The four datasets are: \n",
    "    - List of invoices\n",
    "    - Products data\n",
    "    - Diagnosis data\n",
    "    - Visit data"
   ]
  },
  {
   "cell_type": "markdown",
   "metadata": {},
   "source": [
    "## Questions\n",
    "1.\tHow many valid visits did Lucky Summer and Kangemi medical centers' have between February 2023 and August 2023?\n",
    "2.\tHow many valid visits did Lucky Summer and Kangemi medical centers' have between February 2023 and August 2023?\n",
    "3.\tWhich payor was the most profitable (in absolute/whole numbers) for Penda Health in 2023? Submit payor name only {Assume a gross average margin of 30% per visit}\n",
    "4.\tWhich medical center was the least profitable (in absolute/whole numbers) in 2023? Submit medical center name only {Assume a gross average margin of 30% per visit}\n",
    "5.\tWhat was the average spend per visit for visits that had a pharmacy product dispensed?\n",
    "6.\tAt Penda Health, we have a blended healthcare model where patients can get treatment physically (by visiting a medical centers) and virtually (through our call center). In 2023, how many unique patients experienced a blended healthcare approach in their healthcare journey?\n",
    "7.\tCalculate the Net Promoter Score (NPS) in Q2 2023. {Please note that valid NPS scores range from 0 to 10}\n",
    "8.\tIn 2023 what proportion of visits in Penda Health were second visits?{A first visit is when a patient visits Penda Health for the very first time, a second visit is when the same patient visits again i.e. a second time and so on}\n",
    "9.\tWhat percent of visits in November 2023 happened within 30 days of the preceding visit by the same patient?\n",
    "\n"
   ]
  },
  {
   "cell_type": "code",
   "execution_count": 25,
   "metadata": {},
   "outputs": [],
   "source": [
    "# load the libraries\n",
    "\n",
    "import pandas as pd\n",
    "import numpy as np\n",
    "import seaborn as sb\n",
    "import matplotlib.pyplot as plt\n",
    "%matplotlib inline "
   ]
  },
  {
   "cell_type": "code",
   "execution_count": 26,
   "metadata": {},
   "outputs": [],
   "source": [
    "# loading the datasets\n",
    "\n",
    "invoices = pd.read_excel(r'C:\\Users\\User\\Downloads\\Penda Health\\Invoice Table.xlsx')\n",
    "\n",
    "products = pd.read_excel(r'C:\\Users\\User\\Downloads\\Penda Health\\Product Table.xlsx')\n",
    "\n",
    "visits = pd.read_excel(r'C:\\Users\\User\\Downloads\\Penda Health\\Visit Table.xlsx')\n",
    "\n",
    "diagnosis = pd.read_excel(r'C:\\Users\\User\\Downloads\\Penda Health\\Diagnosis Table.xlsx')"
   ]
  },
  {
   "cell_type": "code",
   "execution_count": 27,
   "metadata": {},
   "outputs": [
    {
     "name": "stdout",
     "output_type": "stream",
     "text": [
      "            InvoiceId             VisitId  Amount\n",
      "0  69c39ae5-2aa5-4323  5f3b21fb-3e10-405a     100\n",
      "1  436af296-78e9-4122  7e83e39a-3078-4107     100\n",
      "2  3804fe69-ee8f-46f3  e61fe672-ba13-4faf     100\n",
      "3  4ae81047-f444-43bb  ff0f224b-20fc-41ef     100\n",
      "4  e4450722-0d40-45e8  6b8bf9e5-3ca4-4e64     100\n",
      "********************\n",
      "            InvoiceId ProductCategory\n",
      "0  e3bea910-e855-48cd        Pharmacy\n",
      "1  94209337-5de5-4993        Pharmacy\n",
      "2  b0b9a8d3-b211-446e        Pharmacy\n",
      "3  9abc1d2c-7f76-4e63        Pharmacy\n",
      "4  48b281fc-024d-4c8e        Pharmacy\n",
      "********************\n",
      "              VisitId           PatientId       VisitDateTime  VisitMonth  \\\n",
      "0  6faf2731-4051-42d7  bc71b48b-9ba7-4b32 2023-12-12 06:47:25          12   \n",
      "1  e02b3795-0b44-45dd  1e6d745c-f142-47e2 2023-08-16 13:29:17           8   \n",
      "2  ab0b28e1-5b3b-4088  066af2c2-6c83-4e43 2023-12-16 12:45:31          12   \n",
      "3  04360fd4-324c-45a5  04f3c148-263e-42c7 2023-10-26 19:02:56          10   \n",
      "4  f12efc50-30d2-4bba  7ff8a9a4-e3ce-4e55 2023-04-09 23:16:01           4   \n",
      "\n",
      "   VisitYear MedicalCenter Payor     VisitType  NPS Score  \n",
      "0       2023   Call Centre  CASH  Telemedicine        NaN  \n",
      "1       2023   Call Centre  CASH  Telemedicine        NaN  \n",
      "2       2023   Call Centre  CASH  Telemedicine        NaN  \n",
      "3       2023   Call Centre  CASH  Telemedicine        NaN  \n",
      "4       2023   Call Centre  CASH  Telemedicine        NaN  \n",
      "********************\n",
      "              VisitId                                    Diagnosis\n",
      "0  628d16e7-6591-4e5f  uncomplicated urinary tract infection (uti)\n",
      "1  826cc6ee-40a0-458a  uncomplicated urinary tract infection (uti)\n",
      "2  9a9a0196-89f0-4dbf  uncomplicated urinary tract infection (uti)\n",
      "3  2e1ce2f1-a282-4343  uncomplicated urinary tract infection (uti)\n",
      "4  c30cf2ac-fd8b-4bd2  uncomplicated urinary tract infection (uti)\n",
      "********************\n"
     ]
    }
   ],
   "source": [
    "# display the tables\n",
    "\n",
    "tables = [invoices, products, visits, diagnosis]\n",
    "\n",
    "for table in tables:\n",
    "    print(table.head(5))\n",
    "    print('*'*20)\n"
   ]
  },
  {
   "cell_type": "code",
   "execution_count": 28,
   "metadata": {},
   "outputs": [
    {
     "name": "stdout",
     "output_type": "stream",
     "text": [
      "<class 'pandas.core.frame.DataFrame'>\n",
      "RangeIndex: 50139 entries, 0 to 50138\n",
      "Data columns (total 3 columns):\n",
      " #   Column     Non-Null Count  Dtype \n",
      "---  ------     --------------  ----- \n",
      " 0   InvoiceId  50139 non-null  object\n",
      " 1   VisitId    50139 non-null  object\n",
      " 2   Amount     50139 non-null  int64 \n",
      "dtypes: int64(1), object(2)\n",
      "memory usage: 1.1+ MB\n",
      "None\n",
      "**********\n",
      "             Amount\n",
      "count  50139.000000\n",
      "mean    1426.719460\n",
      "std     1679.734163\n",
      "min        0.000000\n",
      "25%      195.000000\n",
      "50%      900.000000\n",
      "75%     2119.000000\n",
      "max    84520.000000\n",
      "**********\n",
      "(50139, 3)\n",
      "********************************************************************************\n",
      "<class 'pandas.core.frame.DataFrame'>\n",
      "RangeIndex: 145673 entries, 0 to 145672\n",
      "Data columns (total 2 columns):\n",
      " #   Column           Non-Null Count   Dtype \n",
      "---  ------           --------------   ----- \n",
      " 0   InvoiceId        145673 non-null  object\n",
      " 1   ProductCategory  145673 non-null  object\n",
      "dtypes: object(2)\n",
      "memory usage: 2.2+ MB\n",
      "None\n",
      "**********\n",
      "                 InvoiceId ProductCategory\n",
      "count               145673          145673\n",
      "unique               50139               4\n",
      "top     856bfb2f-cc93-4649        Pharmacy\n",
      "freq                    53           73195\n",
      "**********\n",
      "(145673, 2)\n",
      "********************************************************************************\n",
      "<class 'pandas.core.frame.DataFrame'>\n",
      "RangeIndex: 49367 entries, 0 to 49366\n",
      "Data columns (total 9 columns):\n",
      " #   Column         Non-Null Count  Dtype         \n",
      "---  ------         --------------  -----         \n",
      " 0   VisitId        49367 non-null  object        \n",
      " 1   PatientId      49367 non-null  object        \n",
      " 2   VisitDateTime  49367 non-null  datetime64[ns]\n",
      " 3   VisitMonth     49367 non-null  int64         \n",
      " 4   VisitYear      49367 non-null  int64         \n",
      " 5   MedicalCenter  49367 non-null  object        \n",
      " 6   Payor          49367 non-null  object        \n",
      " 7   VisitType      49367 non-null  object        \n",
      " 8   NPS Score      2272 non-null   float64       \n",
      "dtypes: datetime64[ns](1), float64(1), int64(2), object(5)\n",
      "memory usage: 3.4+ MB\n",
      "None\n",
      "**********\n",
      "         VisitMonth  VisitYear    NPS Score\n",
      "count  49367.000000    49367.0  2272.000000\n",
      "mean       6.685924     2023.0     9.019806\n",
      "std        3.360159        0.0     2.307122\n",
      "min        1.000000     2023.0     0.000000\n",
      "25%        4.000000     2023.0     9.000000\n",
      "50%        7.000000     2023.0    10.000000\n",
      "75%       10.000000     2023.0    10.000000\n",
      "max       12.000000     2023.0    10.000000\n",
      "**********\n",
      "(49367, 9)\n",
      "********************************************************************************\n",
      "<class 'pandas.core.frame.DataFrame'>\n",
      "RangeIndex: 54827 entries, 0 to 54826\n",
      "Data columns (total 2 columns):\n",
      " #   Column     Non-Null Count  Dtype \n",
      "---  ------     --------------  ----- \n",
      " 0   VisitId    54827 non-null  object\n",
      " 1   Diagnosis  54827 non-null  object\n",
      "dtypes: object(2)\n",
      "memory usage: 856.8+ KB\n",
      "None\n",
      "**********\n",
      "                   VisitId                                    Diagnosis\n",
      "count                54827                                        54827\n",
      "unique               45378                                          713\n",
      "top     7cc9ef9d-590b-42ab  uncomplicated urinary tract infection (uti)\n",
      "freq                     5                                         2543\n",
      "**********\n",
      "(54827, 2)\n",
      "********************************************************************************\n"
     ]
    }
   ],
   "source": [
    "# understand the data\n",
    "\n",
    "\n",
    "tables = [invoices, products, visits, diagnosis]\n",
    "\n",
    "for table in tables:\n",
    "    print(table.info())\n",
    "    print('*'*10)\n",
    "    print(table.describe())\n",
    "    print('*'*10)\n",
    "    print(table.shape)\n",
    "    print('*'*80)\n",
    "  \n"
   ]
  },
  {
   "cell_type": "code",
   "execution_count": 29,
   "metadata": {},
   "outputs": [
    {
     "name": "stdout",
     "output_type": "stream",
     "text": [
      "Index(['InvoiceId', 'VisitId', 'Amount'], dtype='object')\n",
      "********************\n",
      "Index(['InvoiceId', 'ProductCategory'], dtype='object')\n",
      "********************\n",
      "Index(['VisitId', 'PatientId', 'VisitDateTime', 'VisitMonth', 'VisitYear',\n",
      "       'MedicalCenter', 'Payor', 'VisitType', 'NPS Score'],\n",
      "      dtype='object')\n",
      "********************\n",
      "Index(['VisitId', 'Diagnosis'], dtype='object')\n",
      "********************\n"
     ]
    }
   ],
   "source": [
    "tables = [invoices, products, visits, diagnosis]\n",
    "\n",
    "for table in tables:\n",
    "    print(table.columns)\n",
    "    print('*'*20)"
   ]
  },
  {
   "cell_type": "code",
   "execution_count": null,
   "metadata": {},
   "outputs": [],
   "source": []
  },
  {
   "cell_type": "code",
   "execution_count": 30,
   "metadata": {},
   "outputs": [
    {
     "data": {
      "text/html": [
       "<div>\n",
       "<style scoped>\n",
       "    .dataframe tbody tr th:only-of-type {\n",
       "        vertical-align: middle;\n",
       "    }\n",
       "\n",
       "    .dataframe tbody tr th {\n",
       "        vertical-align: top;\n",
       "    }\n",
       "\n",
       "    .dataframe thead th {\n",
       "        text-align: right;\n",
       "    }\n",
       "</style>\n",
       "<table border=\"1\" class=\"dataframe\">\n",
       "  <thead>\n",
       "    <tr style=\"text-align: right;\">\n",
       "      <th></th>\n",
       "      <th>InvoiceId</th>\n",
       "      <th>ProductCategory</th>\n",
       "      <th>VisitId</th>\n",
       "      <th>Amount</th>\n",
       "      <th>PatientId</th>\n",
       "      <th>VisitDateTime</th>\n",
       "      <th>VisitMonth</th>\n",
       "      <th>VisitYear</th>\n",
       "      <th>MedicalCenter</th>\n",
       "      <th>Payor</th>\n",
       "      <th>VisitType</th>\n",
       "      <th>NPS Score</th>\n",
       "      <th>Diagnosis</th>\n",
       "    </tr>\n",
       "  </thead>\n",
       "  <tbody>\n",
       "    <tr>\n",
       "      <th>0</th>\n",
       "      <td>e3bea910-e855-48cd</td>\n",
       "      <td>Pharmacy</td>\n",
       "      <td>10360c41-8cb1-4afd</td>\n",
       "      <td>749</td>\n",
       "      <td>123c95fb-6f7f-499d</td>\n",
       "      <td>2023-09-03 14:55:05</td>\n",
       "      <td>9</td>\n",
       "      <td>2023</td>\n",
       "      <td>Lucky Summer</td>\n",
       "      <td>CASH</td>\n",
       "      <td>In-person visit</td>\n",
       "      <td>NaN</td>\n",
       "      <td>tonsillitis, acute bacterial</td>\n",
       "    </tr>\n",
       "    <tr>\n",
       "      <th>1</th>\n",
       "      <td>e3bea910-e855-48cd</td>\n",
       "      <td>Pharmacy</td>\n",
       "      <td>10360c41-8cb1-4afd</td>\n",
       "      <td>749</td>\n",
       "      <td>123c95fb-6f7f-499d</td>\n",
       "      <td>2023-09-03 14:55:05</td>\n",
       "      <td>9</td>\n",
       "      <td>2023</td>\n",
       "      <td>Lucky Summer</td>\n",
       "      <td>CASH</td>\n",
       "      <td>In-person visit</td>\n",
       "      <td>NaN</td>\n",
       "      <td>tonsillitis, acute bacterial</td>\n",
       "    </tr>\n",
       "  </tbody>\n",
       "</table>\n",
       "</div>"
      ],
      "text/plain": [
       "            InvoiceId ProductCategory             VisitId  Amount  \\\n",
       "0  e3bea910-e855-48cd        Pharmacy  10360c41-8cb1-4afd     749   \n",
       "1  e3bea910-e855-48cd        Pharmacy  10360c41-8cb1-4afd     749   \n",
       "\n",
       "            PatientId       VisitDateTime  VisitMonth  VisitYear  \\\n",
       "0  123c95fb-6f7f-499d 2023-09-03 14:55:05           9       2023   \n",
       "1  123c95fb-6f7f-499d 2023-09-03 14:55:05           9       2023   \n",
       "\n",
       "  MedicalCenter Payor        VisitType  NPS Score  \\\n",
       "0  Lucky Summer  CASH  In-person visit        NaN   \n",
       "1  Lucky Summer  CASH  In-person visit        NaN   \n",
       "\n",
       "                      Diagnosis  \n",
       "0  tonsillitis, acute bacterial  \n",
       "1  tonsillitis, acute bacterial  "
      ]
     },
     "execution_count": 30,
     "metadata": {},
     "output_type": "execute_result"
    }
   ],
   "source": [
    "# merging the 4 data frames into 1\n",
    "\n",
    "penda_df = (products.merge(invoices, 'inner', left_on = 'InvoiceId', right_on = 'InvoiceId').\n",
    "           merge(visits, 'inner', left_on = 'VisitId', right_on = 'VisitId').\n",
    "           merge(diagnosis, 'inner', left_on = 'VisitId', right_on = 'VisitId'))\n",
    "\n",
    "penda_df.head(2)"
   ]
  },
  {
   "cell_type": "code",
   "execution_count": 31,
   "metadata": {},
   "outputs": [],
   "source": [
    "# cleaning the dataset"
   ]
  },
  {
   "cell_type": "code",
   "execution_count": 32,
   "metadata": {},
   "outputs": [
    {
     "data": {
      "text/html": [
       "<div>\n",
       "<style scoped>\n",
       "    .dataframe tbody tr th:only-of-type {\n",
       "        vertical-align: middle;\n",
       "    }\n",
       "\n",
       "    .dataframe tbody tr th {\n",
       "        vertical-align: top;\n",
       "    }\n",
       "\n",
       "    .dataframe thead th {\n",
       "        text-align: right;\n",
       "    }\n",
       "</style>\n",
       "<table border=\"1\" class=\"dataframe\">\n",
       "  <thead>\n",
       "    <tr style=\"text-align: right;\">\n",
       "      <th></th>\n",
       "      <th>InvoiceId</th>\n",
       "      <th>ProductCategory</th>\n",
       "      <th>VisitId</th>\n",
       "      <th>Amount</th>\n",
       "      <th>PatientId</th>\n",
       "      <th>VisitDateTime</th>\n",
       "      <th>VisitMonth</th>\n",
       "      <th>VisitYear</th>\n",
       "      <th>MedicalCenter</th>\n",
       "      <th>Payor</th>\n",
       "      <th>VisitType</th>\n",
       "      <th>NPS Score</th>\n",
       "      <th>Diagnosis</th>\n",
       "    </tr>\n",
       "  </thead>\n",
       "  <tbody>\n",
       "    <tr>\n",
       "      <th>0</th>\n",
       "      <td>e3bea910-e855-48cd</td>\n",
       "      <td>Pharmacy</td>\n",
       "      <td>10360c41-8cb1-4afd</td>\n",
       "      <td>749</td>\n",
       "      <td>123c95fb-6f7f-499d</td>\n",
       "      <td>2023-09-03 14:55:05</td>\n",
       "      <td>9</td>\n",
       "      <td>2023</td>\n",
       "      <td>Lucky Summer</td>\n",
       "      <td>CASH</td>\n",
       "      <td>In-person visit</td>\n",
       "      <td>NaN</td>\n",
       "      <td>tonsillitis, acute bacterial</td>\n",
       "    </tr>\n",
       "    <tr>\n",
       "      <th>1</th>\n",
       "      <td>e3bea910-e855-48cd</td>\n",
       "      <td>Pharmacy</td>\n",
       "      <td>10360c41-8cb1-4afd</td>\n",
       "      <td>749</td>\n",
       "      <td>123c95fb-6f7f-499d</td>\n",
       "      <td>2023-09-03 14:55:05</td>\n",
       "      <td>9</td>\n",
       "      <td>2023</td>\n",
       "      <td>Lucky Summer</td>\n",
       "      <td>CASH</td>\n",
       "      <td>In-person visit</td>\n",
       "      <td>NaN</td>\n",
       "      <td>tonsillitis, acute bacterial</td>\n",
       "    </tr>\n",
       "  </tbody>\n",
       "</table>\n",
       "</div>"
      ],
      "text/plain": [
       "            InvoiceId ProductCategory             VisitId  Amount  \\\n",
       "0  e3bea910-e855-48cd        Pharmacy  10360c41-8cb1-4afd     749   \n",
       "1  e3bea910-e855-48cd        Pharmacy  10360c41-8cb1-4afd     749   \n",
       "\n",
       "            PatientId       VisitDateTime  VisitMonth  VisitYear  \\\n",
       "0  123c95fb-6f7f-499d 2023-09-03 14:55:05           9       2023   \n",
       "1  123c95fb-6f7f-499d 2023-09-03 14:55:05           9       2023   \n",
       "\n",
       "  MedicalCenter Payor        VisitType  NPS Score  \\\n",
       "0  Lucky Summer  CASH  In-person visit        NaN   \n",
       "1  Lucky Summer  CASH  In-person visit        NaN   \n",
       "\n",
       "                      Diagnosis  \n",
       "0  tonsillitis, acute bacterial  \n",
       "1  tonsillitis, acute bacterial  "
      ]
     },
     "execution_count": 32,
     "metadata": {},
     "output_type": "execute_result"
    }
   ],
   "source": [
    "# removing cash visits with amount of 0\n",
    "penda1 = penda_df[(penda_df['Payor'] != 'CASH')|(penda_df['Amount'] != 0)]\n",
    "penda1.head(2)"
   ]
  },
  {
   "cell_type": "code",
   "execution_count": 33,
   "metadata": {},
   "outputs": [
    {
     "data": {
      "text/html": [
       "<div>\n",
       "<style scoped>\n",
       "    .dataframe tbody tr th:only-of-type {\n",
       "        vertical-align: middle;\n",
       "    }\n",
       "\n",
       "    .dataframe tbody tr th {\n",
       "        vertical-align: top;\n",
       "    }\n",
       "\n",
       "    .dataframe thead th {\n",
       "        text-align: right;\n",
       "    }\n",
       "</style>\n",
       "<table border=\"1\" class=\"dataframe\">\n",
       "  <thead>\n",
       "    <tr style=\"text-align: right;\">\n",
       "      <th></th>\n",
       "      <th>InvoiceId</th>\n",
       "      <th>ProductCategory</th>\n",
       "      <th>VisitId</th>\n",
       "      <th>Amount</th>\n",
       "      <th>PatientId</th>\n",
       "      <th>VisitDateTime</th>\n",
       "      <th>VisitMonth</th>\n",
       "      <th>VisitYear</th>\n",
       "      <th>MedicalCenter</th>\n",
       "      <th>Payor</th>\n",
       "      <th>VisitType</th>\n",
       "      <th>NPS Score</th>\n",
       "      <th>Diagnosis</th>\n",
       "    </tr>\n",
       "  </thead>\n",
       "  <tbody>\n",
       "    <tr>\n",
       "      <th>0</th>\n",
       "      <td>e3bea910-e855-48cd</td>\n",
       "      <td>Pharmacy</td>\n",
       "      <td>10360c41-8cb1-4afd</td>\n",
       "      <td>749</td>\n",
       "      <td>123c95fb-6f7f-499d</td>\n",
       "      <td>2023-09-03 14:55:05</td>\n",
       "      <td>9</td>\n",
       "      <td>2023</td>\n",
       "      <td>Lucky Summer</td>\n",
       "      <td>CASH</td>\n",
       "      <td>In-person visit</td>\n",
       "      <td>NaN</td>\n",
       "      <td>tonsillitis, acute bacterial</td>\n",
       "    </tr>\n",
       "  </tbody>\n",
       "</table>\n",
       "</div>"
      ],
      "text/plain": [
       "            InvoiceId ProductCategory             VisitId  Amount  \\\n",
       "0  e3bea910-e855-48cd        Pharmacy  10360c41-8cb1-4afd     749   \n",
       "\n",
       "            PatientId       VisitDateTime  VisitMonth  VisitYear  \\\n",
       "0  123c95fb-6f7f-499d 2023-09-03 14:55:05           9       2023   \n",
       "\n",
       "  MedicalCenter Payor        VisitType  NPS Score  \\\n",
       "0  Lucky Summer  CASH  In-person visit        NaN   \n",
       "\n",
       "                      Diagnosis  \n",
       "0  tonsillitis, acute bacterial  "
      ]
     },
     "execution_count": 33,
     "metadata": {},
     "output_type": "execute_result"
    }
   ],
   "source": [
    "# amounts less than 50\n",
    "\n",
    "penda = penda1[penda1['Amount']>=50]\n",
    "penda.head(1)"
   ]
  },
  {
   "cell_type": "code",
   "execution_count": 34,
   "metadata": {},
   "outputs": [
    {
     "data": {
      "text/html": [
       "<div>\n",
       "<style scoped>\n",
       "    .dataframe tbody tr th:only-of-type {\n",
       "        vertical-align: middle;\n",
       "    }\n",
       "\n",
       "    .dataframe tbody tr th {\n",
       "        vertical-align: top;\n",
       "    }\n",
       "\n",
       "    .dataframe thead th {\n",
       "        text-align: right;\n",
       "    }\n",
       "</style>\n",
       "<table border=\"1\" class=\"dataframe\">\n",
       "  <thead>\n",
       "    <tr style=\"text-align: right;\">\n",
       "      <th></th>\n",
       "      <th>InvoiceId</th>\n",
       "      <th>ProductCategory</th>\n",
       "      <th>VisitId</th>\n",
       "      <th>Amount</th>\n",
       "      <th>PatientId</th>\n",
       "      <th>VisitDateTime</th>\n",
       "      <th>VisitMonth</th>\n",
       "      <th>VisitYear</th>\n",
       "      <th>MedicalCenter</th>\n",
       "      <th>Payor</th>\n",
       "      <th>VisitType</th>\n",
       "      <th>NPS Score</th>\n",
       "      <th>Diagnosis</th>\n",
       "    </tr>\n",
       "  </thead>\n",
       "  <tbody>\n",
       "    <tr>\n",
       "      <th>0</th>\n",
       "      <td>e3bea910-e855-48cd</td>\n",
       "      <td>Pharmacy</td>\n",
       "      <td>10360c41-8cb1-4afd</td>\n",
       "      <td>749</td>\n",
       "      <td>123c95fb-6f7f-499d</td>\n",
       "      <td>2023-09-03 14:55:05</td>\n",
       "      <td>9</td>\n",
       "      <td>2023</td>\n",
       "      <td>Lucky Summer</td>\n",
       "      <td>CASH</td>\n",
       "      <td>In-person visit</td>\n",
       "      <td>NaN</td>\n",
       "      <td>tonsillitis, acute bacterial</td>\n",
       "    </tr>\n",
       "    <tr>\n",
       "      <th>1</th>\n",
       "      <td>e3bea910-e855-48cd</td>\n",
       "      <td>Pharmacy</td>\n",
       "      <td>10360c41-8cb1-4afd</td>\n",
       "      <td>749</td>\n",
       "      <td>123c95fb-6f7f-499d</td>\n",
       "      <td>2023-09-03 14:55:05</td>\n",
       "      <td>9</td>\n",
       "      <td>2023</td>\n",
       "      <td>Lucky Summer</td>\n",
       "      <td>CASH</td>\n",
       "      <td>In-person visit</td>\n",
       "      <td>NaN</td>\n",
       "      <td>tonsillitis, acute bacterial</td>\n",
       "    </tr>\n",
       "    <tr>\n",
       "      <th>2</th>\n",
       "      <td>e3bea910-e855-48cd</td>\n",
       "      <td>Consultation</td>\n",
       "      <td>10360c41-8cb1-4afd</td>\n",
       "      <td>749</td>\n",
       "      <td>123c95fb-6f7f-499d</td>\n",
       "      <td>2023-09-03 14:55:05</td>\n",
       "      <td>9</td>\n",
       "      <td>2023</td>\n",
       "      <td>Lucky Summer</td>\n",
       "      <td>CASH</td>\n",
       "      <td>In-person visit</td>\n",
       "      <td>NaN</td>\n",
       "      <td>tonsillitis, acute bacterial</td>\n",
       "    </tr>\n",
       "    <tr>\n",
       "      <th>3</th>\n",
       "      <td>94209337-5de5-4993</td>\n",
       "      <td>Pharmacy</td>\n",
       "      <td>aaedad15-1fe6-4a24</td>\n",
       "      <td>5518</td>\n",
       "      <td>2ab16db0-1e86-4991</td>\n",
       "      <td>2023-05-07 19:58:48</td>\n",
       "      <td>5</td>\n",
       "      <td>2023</td>\n",
       "      <td>Lucky Summer</td>\n",
       "      <td>Insurance D</td>\n",
       "      <td>In-person visit</td>\n",
       "      <td>NaN</td>\n",
       "      <td>acute nasopharyngitis, bacterial</td>\n",
       "    </tr>\n",
       "    <tr>\n",
       "      <th>4</th>\n",
       "      <td>94209337-5de5-4993</td>\n",
       "      <td>Pharmacy</td>\n",
       "      <td>aaedad15-1fe6-4a24</td>\n",
       "      <td>5518</td>\n",
       "      <td>2ab16db0-1e86-4991</td>\n",
       "      <td>2023-05-07 19:58:48</td>\n",
       "      <td>5</td>\n",
       "      <td>2023</td>\n",
       "      <td>Lucky Summer</td>\n",
       "      <td>Insurance D</td>\n",
       "      <td>In-person visit</td>\n",
       "      <td>NaN</td>\n",
       "      <td>acute nasopharyngitis, bacterial</td>\n",
       "    </tr>\n",
       "  </tbody>\n",
       "</table>\n",
       "</div>"
      ],
      "text/plain": [
       "            InvoiceId ProductCategory             VisitId  Amount  \\\n",
       "0  e3bea910-e855-48cd        Pharmacy  10360c41-8cb1-4afd     749   \n",
       "1  e3bea910-e855-48cd        Pharmacy  10360c41-8cb1-4afd     749   \n",
       "2  e3bea910-e855-48cd    Consultation  10360c41-8cb1-4afd     749   \n",
       "3  94209337-5de5-4993        Pharmacy  aaedad15-1fe6-4a24    5518   \n",
       "4  94209337-5de5-4993        Pharmacy  aaedad15-1fe6-4a24    5518   \n",
       "\n",
       "            PatientId       VisitDateTime  VisitMonth  VisitYear  \\\n",
       "0  123c95fb-6f7f-499d 2023-09-03 14:55:05           9       2023   \n",
       "1  123c95fb-6f7f-499d 2023-09-03 14:55:05           9       2023   \n",
       "2  123c95fb-6f7f-499d 2023-09-03 14:55:05           9       2023   \n",
       "3  2ab16db0-1e86-4991 2023-05-07 19:58:48           5       2023   \n",
       "4  2ab16db0-1e86-4991 2023-05-07 19:58:48           5       2023   \n",
       "\n",
       "  MedicalCenter        Payor        VisitType  NPS Score  \\\n",
       "0  Lucky Summer         CASH  In-person visit        NaN   \n",
       "1  Lucky Summer         CASH  In-person visit        NaN   \n",
       "2  Lucky Summer         CASH  In-person visit        NaN   \n",
       "3  Lucky Summer  Insurance D  In-person visit        NaN   \n",
       "4  Lucky Summer  Insurance D  In-person visit        NaN   \n",
       "\n",
       "                          Diagnosis  \n",
       "0      tonsillitis, acute bacterial  \n",
       "1      tonsillitis, acute bacterial  \n",
       "2      tonsillitis, acute bacterial  \n",
       "3  acute nasopharyngitis, bacterial  \n",
       "4  acute nasopharyngitis, bacterial  "
      ]
     },
     "execution_count": 34,
     "metadata": {},
     "output_type": "execute_result"
    }
   ],
   "source": [
    "penda.head(5)"
   ]
  },
  {
   "cell_type": "markdown",
   "metadata": {},
   "source": [
    "## Questions\n",
    "#### Q1: How many valid visits did Lucky Summer and Kangemi medical centers' have between February 2023 and August 2023?"
   ]
  },
  {
   "cell_type": "code",
   "execution_count": 35,
   "metadata": {},
   "outputs": [
    {
     "data": {
      "text/plain": [
       "Kangemi         13190\n",
       "Lucky Summer    12818\n",
       "Name: MedicalCenter, dtype: int64"
      ]
     },
     "execution_count": 35,
     "metadata": {},
     "output_type": "execute_result"
    }
   ],
   "source": [
    "penda[((penda['MedicalCenter']== 'Lucky Summer') | (penda['MedicalCenter']== 'Kangemi'))\n",
    "      & (penda['VisitMonth'].between(5,8))]['MedicalCenter'].value_counts()"
   ]
  },
  {
   "cell_type": "markdown",
   "metadata": {},
   "source": [
    "#### Q2: What was the most common diagnosis in 2023 for In-person visits in Sunton and Embakasi branches combined? {Submit diagnosis name only}"
   ]
  },
  {
   "cell_type": "code",
   "execution_count": 36,
   "metadata": {},
   "outputs": [
    {
     "data": {
      "text/plain": [
       "acute nasopharyngitis, bacterial               5663\n",
       "tonsillitis, acute bacterial                   3910\n",
       "uncomplicated urinary tract infection (uti)    3394\n",
       "acute gastritis                                3234\n",
       "acute nasopharyngitis, viral                   3018\n",
       "acute pharyngitis, bacterial                   2266\n",
       "gastroenteritis with no dehydration            2042\n",
       "sepsis, unspecified organism                   1780\n",
       "pneumonia                                      1657\n",
       "acute bronchitis                               1417\n",
       "Name: Diagnosis, dtype: int64"
      ]
     },
     "execution_count": 36,
     "metadata": {},
     "output_type": "execute_result"
    }
   ],
   "source": [
    "penda[((penda['MedicalCenter']== 'Embakasi') | (penda['MedicalCenter']== 'Sunton')) \n",
    "      & (penda['VisitType']=='In-person visit')]['Diagnosis'].value_counts()[0:10]"
   ]
  },
  {
   "cell_type": "markdown",
   "metadata": {},
   "source": [
    "#### Q3: Which payor was the most profitable (in absolute/whole numbers) for Penda Health in 2023? Submit payor name only {Assume a gross average margin of 30% per visit}"
   ]
  },
  {
   "cell_type": "code",
   "execution_count": 37,
   "metadata": {},
   "outputs": [
    {
     "data": {
      "text/plain": [
       "'CASH'"
      ]
     },
     "execution_count": 37,
     "metadata": {},
     "output_type": "execute_result"
    }
   ],
   "source": [
    "# penda.groupby('Payor').Amount.agg(sum)\n",
    "\n",
    "gross_margin_percent = 0.30\n",
    "\n",
    "# Explicitly create a copy to avoid SettingWithCopyWarning\n",
    "healthcare_data = penda.copy()\n",
    "\n",
    "# Calculate profit per visit\n",
    "healthcare_data['Profit'] = healthcare_data['Amount'] * gross_margin_percent\n",
    "\n",
    "# Calculate total profit per payor in 2023\n",
    "profit_per_payor = healthcare_data.groupby('Payor')['Profit'].sum()\n",
    "\n",
    "# Identify the payor with the highest total profit\n",
    "most_profitable_payor = profit_per_payor.idxmax()\n",
    "most_profitable_payor\n"
   ]
  },
  {
   "cell_type": "markdown",
   "metadata": {},
   "source": [
    "#### Q4: Which medical center was the least profitable  (in absolute/whole numbers)  in 2023?  Submit medical center name only {Assume a gross average margin of 30% per visit}"
   ]
  },
  {
   "cell_type": "code",
   "execution_count": 38,
   "metadata": {},
   "outputs": [
    {
     "data": {
      "text/plain": [
       "'Call Centre'"
      ]
     },
     "execution_count": 38,
     "metadata": {},
     "output_type": "execute_result"
    }
   ],
   "source": [
    "# Assuming a gross average margin of 30% per visit\n",
    "gross_margin_percent = 0.30\n",
    "\n",
    "# Explicitly create a copy to avoid SettingWithCopyWarning\n",
    "healthcare_data = penda.copy()\n",
    "\n",
    "# Calculate profit per visit\n",
    "healthcare_data['Profit'] = healthcare_data['Amount'] * gross_margin_percent\n",
    "\n",
    "# Calculate total profit per medical center in 2023\n",
    "profit_per_medical_center = healthcare_data.groupby('MedicalCenter')['Profit'].sum()\n",
    "\n",
    "# Identify the medical center with the lowest profit\n",
    "least_profitable_medical_center = profit_per_medical_center.idxmin()\n",
    "least_profitable_medical_center"
   ]
  },
  {
   "cell_type": "markdown",
   "metadata": {},
   "source": [
    "#### Q5: What was the average spend per visit for visits that had a pharmacy product dispensed?"
   ]
  },
  {
   "cell_type": "code",
   "execution_count": 39,
   "metadata": {},
   "outputs": [
    {
     "data": {
      "text/plain": [
       "2771.9491078753076"
      ]
     },
     "execution_count": 39,
     "metadata": {},
     "output_type": "execute_result"
    }
   ],
   "source": [
    "penda[penda['ProductCategory'] == 'Pharmacy']['Amount'].mean()"
   ]
  },
  {
   "cell_type": "markdown",
   "metadata": {},
   "source": [
    "#### Q6: At Penda Health, we have a blended healthcare model where patients can get treatment physically (by visiting a medical centers) and virtually (through our call center). In 2023, how many unique patients experienced a blended healthcare approach in their healthcare journey?"
   ]
  },
  {
   "cell_type": "code",
   "execution_count": 40,
   "metadata": {},
   "outputs": [
    {
     "data": {
      "text/plain": [
       "0"
      ]
     },
     "execution_count": 40,
     "metadata": {},
     "output_type": "execute_result"
    }
   ],
   "source": [
    "penda[(penda['VisitYear'] == 2023) & (penda['VisitType'].str.contains('call center', case=False, na=False))]['PatientId'].nunique()"
   ]
  },
  {
   "cell_type": "code",
   "execution_count": 41,
   "metadata": {},
   "outputs": [
    {
     "data": {
      "text/plain": [
       "0"
      ]
     },
     "execution_count": 41,
     "metadata": {},
     "output_type": "execute_result"
    }
   ],
   "source": [
    "penda.groupby('PatientId')['VisitType'].apply(lambda x: any('In-person visit' in vt.lower() for vt in x) and any('Telemedicine' in vt.lower() for vt in x)).sum()"
   ]
  },
  {
   "cell_type": "markdown",
   "metadata": {},
   "source": [
    "#### Q7: Calculate the Net Promoter Score (NPS) in Q2 2023. {Please note that valid NPS scores range from 0 to 10}"
   ]
  },
  {
   "cell_type": "code",
   "execution_count": 42,
   "metadata": {},
   "outputs": [
    {
     "name": "stdout",
     "output_type": "stream",
     "text": [
      "76.69345579793341\n"
     ]
    }
   ],
   "source": [
    "# Explicitly create a copy to avoid SettingWithCopyWarning\n",
    "healthcare_data = penda.copy()\n",
    "\n",
    "# Filter data for Q2 2023 (April to June)\n",
    "q2_data = healthcare_data[(healthcare_data['VisitYear'] == 2023) & (healthcare_data['VisitMonth'].between(4, 6))]\n",
    "\n",
    "# Calculate NPS for Q2 2023\n",
    "promoters = q2_data[q2_data['NPS Score'].between(9, 10)]\n",
    "detractors = q2_data[q2_data['NPS Score'].between(0, 6)]\n",
    "\n",
    "total_promoters = promoters.shape[0]\n",
    "total_detractors = detractors.shape[0]\n",
    "total_respondents = total_promoters + total_detractors\n",
    "\n",
    "if total_respondents > 0:\n",
    "    nps = ((total_promoters - total_detractors) / total_respondents) * 100\n",
    "    print(nps)\n",
    "else:\n",
    "    nps = 0\n"
   ]
  },
  {
   "cell_type": "markdown",
   "metadata": {},
   "source": [
    "#### Q8: In 2023 what proportion of visits in Penda Health were second visits?{A first visit is when a patient visits Penda Health for the very first time, a second visit is when the same patient visits again i.e. a second time and so on}"
   ]
  },
  {
   "cell_type": "code",
   "execution_count": 43,
   "metadata": {},
   "outputs": [
    {
     "data": {
      "text/plain": [
       "0.11000971497258402"
      ]
     },
     "execution_count": 43,
     "metadata": {},
     "output_type": "execute_result"
    }
   ],
   "source": [
    "multiple_visits = penda.groupby('PatientId').size()\n",
    "second_visits_count = (multiple_visits > 1).sum()\n",
    "\n",
    "total_visits_count = healthcare_data.shape[0]\n",
    "\n",
    "proportion_second_visits = second_visits_count / total_visits_count\n",
    "proportion_second_visits"
   ]
  },
  {
   "cell_type": "markdown",
   "metadata": {},
   "source": [
    "#### Q9: What percent of visits in November 2023 happened within 30 days of the preceding visit by the same patient?"
   ]
  },
  {
   "cell_type": "code",
   "execution_count": 44,
   "metadata": {},
   "outputs": [
    {
     "name": "stderr",
     "output_type": "stream",
     "text": [
      "C:\\Users\\User\\Anaconda3\\lib\\site-packages\\pandas\\util\\_decorators.py:311: SettingWithCopyWarning: \n",
      "A value is trying to be set on a copy of a slice from a DataFrame\n",
      "\n",
      "See the caveats in the documentation: https://pandas.pydata.org/pandas-docs/stable/user_guide/indexing.html#returning-a-view-versus-a-copy\n",
      "  return func(*args, **kwargs)\n",
      "C:\\Users\\User\\Anaconda3\\lib\\site-packages\\ipykernel_launcher.py:16: SettingWithCopyWarning: \n",
      "A value is trying to be set on a copy of a slice from a DataFrame.\n",
      "Try using .loc[row_indexer,col_indexer] = value instead\n",
      "\n",
      "See the caveats in the documentation: https://pandas.pydata.org/pandas-docs/stable/user_guide/indexing.html#returning-a-view-versus-a-copy\n",
      "  app.launch_new_instance()\n"
     ]
    },
    {
     "data": {
      "text/plain": [
       "77.8731269390719"
      ]
     },
     "execution_count": 44,
     "metadata": {},
     "output_type": "execute_result"
    }
   ],
   "source": [
    "from datetime import datetime, timedelta\n",
    "\n",
    "# Explicitly create a copy to avoid SettingWithCopyWarning\n",
    "healthcare_data = penda.copy()\n",
    "\n",
    "# Convert 'VisitDateTime' to datetime format\n",
    "healthcare_data['VisitDateTime'] = pd.to_datetime(healthcare_data['VisitDateTime'])\n",
    "\n",
    "# Filter visits in November 2023\n",
    "november_visits = healthcare_data[(healthcare_data['VisitYear'] == 2023) & (healthcare_data['VisitMonth'] == 11)]\n",
    "\n",
    "# Sort data by PatientId and VisitDateTime\n",
    "november_visits.sort_values(by=['PatientId', 'VisitDateTime'], inplace=True)\n",
    "\n",
    "# Calculate the difference in days between consecutive visits for each patient\n",
    "november_visits['DaysSincePreviousVisit'] = november_visits.groupby('PatientId')['VisitDateTime'].diff().dt.days\n",
    "\n",
    "# Count visits within 30 days of the previous visit\n",
    "within_30_days_count = november_visits[november_visits['DaysSincePreviousVisit'] <= 30].shape[0]\n",
    "\n",
    "total_november_visits = november_visits.shape[0]\n",
    "\n",
    "percent_within_30_days = within_30_days_count / total_november_visits * 100\n",
    "\n",
    "percent_within_30_days"
   ]
  }
 ],
 "metadata": {
  "kernelspec": {
   "display_name": "Python 3",
   "language": "python",
   "name": "python3"
  },
  "language_info": {
   "codemirror_mode": {
    "name": "ipython",
    "version": 3
   },
   "file_extension": ".py",
   "mimetype": "text/x-python",
   "name": "python",
   "nbconvert_exporter": "python",
   "pygments_lexer": "ipython3",
   "version": "3.7.4"
  }
 },
 "nbformat": 4,
 "nbformat_minor": 2
}
